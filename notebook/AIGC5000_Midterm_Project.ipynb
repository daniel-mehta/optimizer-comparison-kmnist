{
 "cells": [
  {
   "cell_type": "markdown",
   "id": "24a9fae0",
   "metadata": {},
   "source": [
    "#  AIGC 5500 – Advanced Deep Learning  \n",
    "### Midterm Project: Deep Learning Optimizers Comparison  \n",
    "**Student Name**: *Jawwad Khalil Ahmed (N01647705)*  \n",
    "**Student Name**: *Eric Efon*  \n",
    "**Student Name**: *Daniel Mehta*  \n",
    "**Student Name**: *Thomas Nash*  \n",
    "**Student Name**: *Jeffrey Ng*  \n",
    "\n",
    "\n",
    "**Instructor**: *Masoodhur Rahaman*  \n",
    "**Date**: *30 June 2025*\n",
    "\n",
    "---\n",
    "\n",
    "##  Project Title:  \n",
    "**Comparison of Adam, RMSprop, and AdamW Optimizers on the KMNIST Dataset**\n",
    "\n",
    "---\n",
    "\n",
    "### 🎯 Objective:  \n",
    "To evaluate and compare the performance of three optimization algorithms — **Adam**, **RMSprop**, and **AdamW** — using a fully connected feedforward neural network trained on the **KMNIST** dataset. The study involves:\n",
    "- Baseline evaluation\n",
    "- Hyperparameter tuning\n",
    "- 5-fold cross-validation\n",
    "- Analysis of accuracy, loss, and training time\n"
   ]
  },
  {
   "cell_type": "markdown",
   "id": "439d774e",
   "metadata": {},
   "source": [
    "______"
   ]
  },
  {
   "cell_type": "markdown",
   "id": "4f82dbf7",
   "metadata": {},
   "source": [
    "## Step 1: Setup and Import Libraries\n",
    "\n",
    "In this step, we import all required libraries:\n",
    "\n",
    "- **PyTorch**: For building and training the neural network.\n",
    "- **Torchvision**: For loading the KMNIST dataset.\n",
    "- **sklearn.model_selection.KFold**: For k-fold cross-validation.\n",
    "- **Matplotlib / Seaborn**: For visualizing performance metrics.\n",
    "- **Pandas / NumPy**: For tabular data handling and analysis.\n",
    "\n",
    "All random seeds will be set later for reproducibility.\n"
   ]
  },
  {
   "cell_type": "code",
   "execution_count": null,
   "id": "991f41d5",
   "metadata": {},
   "outputs": [],
   "source": [
    "\n",
    "import torch\n",
    "import torch.nn as nn\n",
    "import torch.optim as optim\n",
    "from torchvision import datasets, transforms\n",
    "from torch.utils.data import DataLoader, random_split, Subset\n",
    "from sklearn.model_selection import KFold\n",
    "import numpy as np\n",
    "import matplotlib.pyplot as plt\n",
    "import time\n",
    "import pandas as pd\n",
    "import seaborn as sns\n",
    "import random\n",
    "from itertools import product"
   ]
  },
  {
   "cell_type": "markdown",
   "id": "224e1530",
   "metadata": {},
   "source": [
    "______"
   ]
  },
  {
   "cell_type": "markdown",
   "id": "eb432b48",
   "metadata": {},
   "source": [
    "## Step 2: Load and Preprocess KMNIST Dataset\n",
    "\n",
    "The KMNIST dataset contains 70,000 grayscale images of Japanese characters:\n",
    "- 60,000 training samples\n",
    "- 10,000 test samples\n",
    "Each image is 28x28 pixels.\n",
    "\n",
    "We normalize the images to center the pixel values around zero, which helps with training. The dataset is automatically downloaded and wrapped in PyTorch's Dataset object.\n"
   ]
  },
  {
   "cell_type": "code",
   "execution_count": 7,
   "id": "20634c40",
   "metadata": {},
   "outputs": [
    {
     "name": "stderr",
     "output_type": "stream",
     "text": [
      "100%|██████████| 18.2M/18.2M [00:11<00:00, 1.53MB/s]\n",
      "100%|██████████| 29.5k/29.5k [00:00<00:00, 135kB/s]\n",
      "100%|██████████| 3.04M/3.04M [00:04<00:00, 673kB/s] \n",
      "100%|██████████| 5.12k/5.12k [00:00<?, ?B/s]"
     ]
    },
    {
     "name": "stdout",
     "output_type": "stream",
     "text": [
      "Training samples: 60000\n",
      "Test samples: 10000\n"
     ]
    },
    {
     "name": "stderr",
     "output_type": "stream",
     "text": [
      "\n"
     ]
    }
   ],
   "source": [
    "# Set random seeds for reproducibility\n",
    "torch.manual_seed(42)\n",
    "np.random.seed(42)\n",
    "random.seed(42)\n",
    "\n",
    "# Define transformations\n",
    "transform = transforms.Compose([\n",
    "    transforms.ToTensor(),\n",
    "    transforms.Normalize((0.5,), (0.5,))  # Normalize grayscale images\n",
    "])\n",
    "\n",
    "# Download and load the KMNIST dataset\n",
    "train_dataset = datasets.KMNIST(\n",
    "    root='./data',\n",
    "    train=True,\n",
    "    download=True,\n",
    "    transform=transform\n",
    ")\n",
    "\n",
    "test_dataset = datasets.KMNIST(\n",
    "    root='./data',\n",
    "    train=False,\n",
    "    download=True,\n",
    "    transform=transform\n",
    ")\n",
    "\n",
    "print(f\"Training samples: {len(train_dataset)}\")\n",
    "print(f\"Test samples: {len(test_dataset)}\")\n"
   ]
  },
  {
   "cell_type": "markdown",
   "id": "b70e4347",
   "metadata": {},
   "source": [
    "____"
   ]
  },
  {
   "cell_type": "markdown",
   "id": "c71d260f",
   "metadata": {},
   "source": [
    "## Step 3: Define the Neural Network Architecture\n",
    "\n",
    "We implement a simple feedforward fully connected neural network with:\n",
    "\n",
    "- **Input layer** of size 784 (28x28 flattened image)\n",
    "- **Two hidden layers** with 128 and 64 neurons respectively using ReLU\n",
    "- **Output layer** with 10 neurons, one for each KMNIST class\n",
    "- **Softmax activation** for multiclass classification\n",
    "\n",
    "This model will be used with all three optimizers: Adam, RMSprop, and AdamW.\n"
   ]
  },
  {
   "cell_type": "code",
   "execution_count": 8,
   "id": "3018cce8",
   "metadata": {},
   "outputs": [],
   "source": [
    "# Define the neural network architecture\n",
    "class FeedforwardNN(nn.Module):\n",
    "    def __init__(self):\n",
    "        super(FeedforwardNN, self).__init__()\n",
    "        self.network = nn.Sequential(\n",
    "            nn.Flatten(),                      # Flatten 28x28 input to 784\n",
    "            nn.Linear(784, 128),               # First hidden layer\n",
    "            nn.ReLU(),\n",
    "            nn.Linear(128, 64),                # Second hidden layer\n",
    "            nn.ReLU(),\n",
    "            nn.Linear(64, 10),                 # Output layer\n",
    "            nn.Softmax(dim=1)                  # Softmax activation\n",
    "        )\n",
    "\n",
    "    def forward(self, x):\n",
    "        return self.network(x)\n"
   ]
  },
  {
   "cell_type": "markdown",
   "id": "bc6a1acc",
   "metadata": {},
   "source": [
    "____"
   ]
  },
  {
   "cell_type": "markdown",
   "id": "456489e0",
   "metadata": {},
   "source": [
    "## Step 4: Define Training Function\n",
    "\n",
    "We define `train_one_epoch`, which:\n",
    "1. Puts the model in **training mode**.\n",
    "2. Iterates over all batches in the training `DataLoader`.\n",
    "3. Performs forward pass, computes loss, backpropagates, and updates weights.\n",
    "4. Accumulates the total loss and computes the **average loss per sample**.\n",
    "5. Measures the **time taken** for the entire epoch.\n",
    "\n",
    "This function returns:\n",
    "- **avg_loss**: the mean training loss over all samples in the epoch.\n",
    "- **epoch_time**: how many seconds the epoch took, which we’ll use to compare optimizer speed.\n"
   ]
  },
  {
   "cell_type": "code",
   "execution_count": 9,
   "id": "13b42790",
   "metadata": {},
   "outputs": [
    {
     "name": "stdout",
     "output_type": "stream",
     "text": [
      "Using device: cpu\n"
     ]
    }
   ],
   "source": [
    "# Select device\n",
    "device = torch.device('cuda' if torch.cuda.is_available() else 'cpu')\n",
    "print(f\"Using device: {device}\")"
   ]
  },
  {
   "cell_type": "code",
   "execution_count": 10,
   "id": "6ba280fd",
   "metadata": {},
   "outputs": [],
   "source": [
    "def train_one_epoch(model, optimizer, criterion, data_loader, device):\n",
    "    \"\"\"\n",
    "    Train the model for one epoch.\n",
    "    Returns:\n",
    "        avg_loss (float): average training loss over the epoch\n",
    "        epoch_time (float): time taken (in seconds) for this epoch\n",
    "    \"\"\"\n",
    "    model.train()\n",
    "    running_loss = 0.0\n",
    "    start_time = time.time()\n",
    "    \n",
    "    for inputs, targets in data_loader:\n",
    "        inputs, targets = inputs.to(device), targets.to(device)\n",
    "        \n",
    "        # Forward pass\n",
    "        outputs = model(inputs)\n",
    "        loss = criterion(outputs, targets)\n",
    "        \n",
    "        # Backward pass and optimization\n",
    "        optimizer.zero_grad()\n",
    "        loss.backward()\n",
    "        optimizer.step()\n",
    "        \n",
    "        # Accumulate loss\n",
    "        running_loss += loss.item() * inputs.size(0)\n",
    "    \n",
    "    end_time = time.time()\n",
    "    avg_loss = running_loss / len(data_loader.dataset)\n",
    "    epoch_time = end_time - start_time\n",
    "    \n",
    "    return avg_loss, epoch_time"
   ]
  },
  {
   "cell_type": "markdown",
   "id": "66f1162a",
   "metadata": {},
   "source": [
    "____"
   ]
  },
  {
   "cell_type": "markdown",
   "id": "dee1881f",
   "metadata": {},
   "source": [
    "## Step 5: Evaluation Function\n",
    "\n",
    "We define `evaluate_model` to assess the model’s performance on validation or test data. It returns:\n",
    "- **avg_loss**: Mean loss across the evaluation dataset\n",
    "- **accuracy**: Percentage of correctly classified images\n",
    "\n",
    "We use `torch.no_grad()` to improve speed and reduce memory use, since gradients are not needed during evaluation.\n"
   ]
  },
  {
   "cell_type": "code",
   "execution_count": 11,
   "id": "f7b9caad",
   "metadata": {},
   "outputs": [],
   "source": [
    "def evaluate_model(model, criterion, data_loader, device):\n",
    "    \"\"\"\n",
    "    Evaluate model performance on validation/test data.\n",
    "    Returns:\n",
    "        avg_loss (float): average loss\n",
    "        accuracy (float): classification accuracy in %\n",
    "    \"\"\"\n",
    "    model.eval()\n",
    "    running_loss = 0.0\n",
    "    correct = 0\n",
    "    total = 0\n",
    "    \n",
    "    with torch.no_grad():  # Disable gradient computation\n",
    "        for inputs, targets in data_loader:\n",
    "            inputs, targets = inputs.to(device), targets.to(device)\n",
    "            \n",
    "            outputs = model(inputs)\n",
    "            loss = criterion(outputs, targets)\n",
    "            \n",
    "            running_loss += loss.item() * inputs.size(0)\n",
    "            _, predicted = torch.max(outputs, 1)\n",
    "            total += targets.size(0)\n",
    "            correct += (predicted == targets).sum().item()\n",
    "    \n",
    "    avg_loss = running_loss / len(data_loader.dataset)\n",
    "    accuracy = 100.0 * correct / total\n",
    "    \n",
    "    return avg_loss, accuracy\n"
   ]
  },
  {
   "cell_type": "markdown",
   "id": "59e424f5",
   "metadata": {},
   "source": [
    "____"
   ]
  },
  {
   "cell_type": "markdown",
   "id": "e4af6a41",
   "metadata": {},
   "source": [
    "## Step 6: Train and Evaluate with Adam, RMSprop, and AdamW\n",
    "\n",
    "We compare three optimizers using the same architecture and hyperparameters:\n",
    "- Learning rate = 0.001\n",
    "- Batch size = 64\n",
    "- Epochs = 5\n",
    "\n",
    "For each optimizer:\n",
    "- We train the model for 5 epochs\n",
    "- Evaluate accuracy and loss on the test set\n",
    "- Measure total training time\n",
    "\n",
    "This gives us a baseline comparison for performance before tuning.\n"
   ]
  },
  {
   "cell_type": "code",
   "execution_count": 12,
   "id": "ab25ec70",
   "metadata": {},
   "outputs": [
    {
     "name": "stdout",
     "output_type": "stream",
     "text": [
      "\n",
      "Training with optimizer: Adam\n",
      "Epoch 1/5 - Loss: 1.7171 - Time: 15.98s\n",
      "Epoch 2/5 - Loss: 1.6254 - Time: 15.65s\n",
      "Epoch 3/5 - Loss: 1.5989 - Time: 11.03s\n",
      "Epoch 4/5 - Loss: 1.5733 - Time: 12.09s\n",
      "Epoch 5/5 - Loss: 1.5644 - Time: 10.86s\n",
      "Test Accuracy: 77.05% - Test Loss: 1.6890\n",
      "\n",
      "Training with optimizer: RMSprop\n",
      "Epoch 1/5 - Loss: 1.7187 - Time: 11.08s\n",
      "Epoch 2/5 - Loss: 1.6030 - Time: 10.78s\n",
      "Epoch 3/5 - Loss: 1.5831 - Time: 10.74s\n",
      "Epoch 4/5 - Loss: 1.5697 - Time: 11.51s\n",
      "Epoch 5/5 - Loss: 1.5620 - Time: 10.72s\n",
      "Test Accuracy: 77.66% - Test Loss: 1.6842\n",
      "\n",
      "Training with optimizer: AdamW\n",
      "Epoch 1/5 - Loss: 1.7418 - Time: 11.19s\n",
      "Epoch 2/5 - Loss: 1.6043 - Time: 11.95s\n",
      "Epoch 3/5 - Loss: 1.5796 - Time: 10.74s\n",
      "Epoch 4/5 - Loss: 1.5692 - Time: 11.15s\n",
      "Epoch 5/5 - Loss: 1.5623 - Time: 11.70s\n",
      "Test Accuracy: 77.39% - Test Loss: 1.6868\n"
     ]
    }
   ],
   "source": [
    "# Hyperparameters\n",
    "batch_size = 64\n",
    "epochs = 5\n",
    "learning_rate = 0.001\n",
    "\n",
    "# Prepare data loaders\n",
    "train_loader = DataLoader(train_dataset, batch_size=batch_size, shuffle=True)\n",
    "test_loader = DataLoader(test_dataset, batch_size=batch_size)\n",
    "\n",
    "# Track results\n",
    "results = []\n",
    "\n",
    "# Optimizers to compare\n",
    "optimizers_dict = {\n",
    "    'Adam': optim.Adam,\n",
    "    'RMSprop': optim.RMSprop,\n",
    "    'AdamW': optim.AdamW\n",
    "}\n",
    "\n",
    "# Loss function\n",
    "criterion = nn.CrossEntropyLoss()\n",
    "\n",
    "# Loop over each optimizer\n",
    "for name, optimizer_class in optimizers_dict.items():\n",
    "    print(f\"\\nTraining with optimizer: {name}\")\n",
    "    \n",
    "    model = FeedforwardNN().to(device)\n",
    "    optimizer = optimizer_class(model.parameters(), lr=learning_rate)\n",
    "    \n",
    "    total_time = 0.0\n",
    "    for epoch in range(epochs):\n",
    "        train_loss, epoch_time = train_one_epoch(model, optimizer, criterion, train_loader, device)\n",
    "        total_time += epoch_time\n",
    "        print(f\"Epoch {epoch+1}/{epochs} - Loss: {train_loss:.4f} - Time: {epoch_time:.2f}s\")\n",
    "    \n",
    "    test_loss, test_accuracy = evaluate_model(model, criterion, test_loader, device)\n",
    "    \n",
    "    print(f\"Test Accuracy: {test_accuracy:.2f}% - Test Loss: {test_loss:.4f}\")\n",
    "    \n",
    "    results.append({\n",
    "        'Optimizer': name,\n",
    "        'Test Accuracy (%)': test_accuracy,\n",
    "        'Test Loss': test_loss,\n",
    "        'Total Training Time (s)': total_time\n",
    "    })\n",
    "\n",
    "# Save results as DataFrame\n",
    "results_df = pd.DataFrame(results)\n"
   ]
  },
  {
   "cell_type": "markdown",
   "id": "1bfb12da",
   "metadata": {},
   "source": [
    "### Analysis of Optimizer Performance (Baseline Results)\n",
    "\n",
    "We trained the same neural network using three different optimizers — **Adam**, **RMSprop**, and **AdamW** — for 5 epochs using:\n",
    "\n",
    "- Learning Rate: 0.001  \n",
    "- Batch Size: 64  \n",
    "- Loss Function: CrossEntropyLoss\n",
    "\n",
    "### Baseline Performance Summary\n",
    "\n",
    "| Optimizer | Test Accuracy (%) | Test Loss | Total Training Time (approx) |\n",
    "|-----------|--------------------|-----------|-------------------------------|\n",
    "| Adam      | 77.05              | 1.6890    | ~66.61 seconds                |\n",
    "| RMSprop   | 77.66              | 1.6842    | ~54.83 seconds                |\n",
    "| AdamW     | 77.39              | 1.6868    | ~56.73 seconds                |\n",
    "\n",
    "### Key Observations:\n",
    "\n",
    "- **Accuracy**:  \n",
    "  - All optimizers performed similarly, but **RMSprop** achieved the highest test accuracy (77.66%).\n",
    "\n",
    "- **Loss**:  \n",
    "  - RMSprop also had the **lowest test loss** (1.6842), suggesting better convergence at this setting.\n",
    "\n",
    "- **Training Time**:  \n",
    "  - **RMSprop** was the fastest among the three, while **Adam** took the most time.\n",
    "\n",
    "These baseline results establish a benchmark for each optimizer using the same hyperparameters. We’ll improve on these by tuning the hyperparameters next.\n",
    "____"
   ]
  },
  {
   "cell_type": "markdown",
   "id": "c2bd2295",
   "metadata": {},
   "source": [
    "## Step 7: Hyperparameter Tuning via Random Search\n",
    "\n",
    "To improve model performance, we applied **random search** over a small hyperparameter space:\n",
    "\n",
    "- **Learning rates**: [0.0005, 0.001, 0.005]\n",
    "- **Batch sizes**: [32, 64, 128]\n",
    "\n",
    "We randomly selected 3 combinations and retrained each optimizer. For each configuration, we tracked:\n",
    "- Test accuracy\n",
    "- Test loss\n",
    "- Total training time\n",
    "\n",
    "We then selected the **best configuration per optimizer** based on test accuracy.\n"
   ]
  },
  {
   "cell_type": "code",
   "execution_count": 14,
   "id": "28057774",
   "metadata": {},
   "outputs": [
    {
     "name": "stdout",
     "output_type": "stream",
     "text": [
      "Randomly selected configurations:\n",
      "[(0.0005, 64), (0.0005, 32), (0.001, 128)]\n",
      "\n",
      "Optimizer: Adam\n",
      "\n",
      "Training with LR=0.0005, Batch Size=64\n",
      "→ Test Acc: 75.42% | Loss: 1.7096 | Time: 88.64s\n",
      "\n",
      "Training with LR=0.0005, Batch Size=32\n",
      "→ Test Acc: 76.60% | Loss: 1.6962 | Time: 64.80s\n",
      "\n",
      "Training with LR=0.001, Batch Size=128\n",
      "→ Test Acc: 74.86% | Loss: 1.7136 | Time: 52.85s\n",
      "\n",
      "Optimizer: RMSprop\n",
      "\n",
      "Training with LR=0.0005, Batch Size=64\n",
      "→ Test Acc: 76.72% | Loss: 1.6968 | Time: 64.32s\n",
      "\n",
      "Training with LR=0.0005, Batch Size=32\n",
      "→ Test Acc: 78.01% | Loss: 1.6806 | Time: 168.32s\n",
      "\n",
      "Training with LR=0.001, Batch Size=128\n",
      "→ Test Acc: 77.73% | Loss: 1.6851 | Time: 80.18s\n",
      "\n",
      "Optimizer: AdamW\n",
      "\n",
      "Training with LR=0.0005, Batch Size=64\n",
      "→ Test Acc: 75.71% | Loss: 1.7061 | Time: 88.54s\n",
      "\n",
      "Training with LR=0.0005, Batch Size=32\n",
      "→ Test Acc: 77.91% | Loss: 1.6835 | Time: 89.01s\n",
      "\n",
      "Training with LR=0.001, Batch Size=128\n",
      "→ Test Acc: 76.03% | Loss: 1.7022 | Time: 52.20s\n"
     ]
    }
   ],
   "source": [
    "# Define hyperparameter space\n",
    "learning_rates = [0.0005, 0.001, 0.005]\n",
    "batch_sizes = [32, 64, 128]\n",
    "\n",
    "# Generate all combinations, then sample 3\n",
    "param_grid = list(product(learning_rates, batch_sizes))\n",
    "random.seed(42)\n",
    "sampled_configs = random.sample(param_grid, 3)\n",
    "\n",
    "print(\"Randomly selected configurations:\")\n",
    "print(sampled_configs)\n",
    "\n",
    "# Reinitialize results\n",
    "tuned_results = []\n",
    "\n",
    "for name, optimizer_class in optimizers_dict.items():\n",
    "    print(f\"\\nOptimizer: {name}\")\n",
    "    best_acc = 0\n",
    "    best_config = None\n",
    "    best_loss = None\n",
    "    best_time = None\n",
    "\n",
    "    for lr, bs in sampled_configs:\n",
    "        print(f\"\\nTraining with LR={lr}, Batch Size={bs}\")\n",
    "        \n",
    "        train_loader = DataLoader(train_dataset, batch_size=bs, shuffle=True)\n",
    "        test_loader = DataLoader(test_dataset, batch_size=bs)\n",
    "        \n",
    "        model = FeedforwardNN().to(device)\n",
    "        optimizer = optimizer_class(model.parameters(), lr=lr)\n",
    "        \n",
    "        total_time = 0.0\n",
    "        for epoch in range(epochs):  # still using 5 epochs\n",
    "            train_loss, epoch_time = train_one_epoch(model, optimizer, criterion, train_loader, device)\n",
    "            total_time += epoch_time\n",
    "        \n",
    "        test_loss, test_acc = evaluate_model(model, criterion, test_loader, device)\n",
    "        print(f\"→ Test Acc: {test_acc:.2f}% | Loss: {test_loss:.4f} | Time: {total_time:.2f}s\")\n",
    "\n",
    "        if test_acc > best_acc:\n",
    "            best_acc = test_acc\n",
    "            best_config = (lr, bs)\n",
    "            best_loss = test_loss\n",
    "            best_time = total_time\n",
    "    \n",
    "    tuned_results.append({\n",
    "        'Optimizer': name,\n",
    "        'Best LR': best_config[0],\n",
    "        'Best Batch Size': best_config[1],\n",
    "        'Best Accuracy (%)': best_acc,\n",
    "        'Best Loss': best_loss,\n",
    "        'Total Time (s)': best_time\n",
    "    })\n",
    "\n",
    "# Convert to DataFrame\n",
    "tuned_df = pd.DataFrame(tuned_results)\n"
   ]
  },
  {
   "cell_type": "markdown",
   "id": "f35ac439",
   "metadata": {},
   "source": [
    "### Hyperparameter Tuning Analysis (Random Search)\n",
    "\n",
    "We performed a random search across the following hyperparameter space:\n",
    "\n",
    "- **Learning Rates**: [0.0005, 0.001, 0.005]\n",
    "- **Batch Sizes**: [32, 64, 128]\n",
    "\n",
    "3 configurations were randomly sampled:\n",
    "- (0.0005, 64)\n",
    "- (0.0005, 32)\n",
    "- (0.001, 128)\n",
    "\n",
    "Each optimizer was trained on these configurations and evaluated. The **best test accuracy** for each optimizer is summarized below:\n",
    "\n",
    "### Tuned Performance Summary\n",
    "\n",
    "| Optimizer | Best LR | Best Batch Size | Best Accuracy (%) | Best Loss | Training Time (s) |\n",
    "|-----------|---------|------------------|--------------------|-----------|-------------------|\n",
    "| Adam      | 0.0005  | 32               | 76.60              | 1.6962    | 64.80             |\n",
    "| RMSprop   | 0.0005  | 32               | **78.01**          | 1.6806    | 168.32            |\n",
    "| AdamW     | 0.001   | 128              | 77.91              | 1.6835    | 89.01             |\n",
    "\n",
    "### Interpretation:\n",
    "\n",
    "- **RMSprop** achieved the **highest test accuracy** of **78.01%** after tuning, showing it is most sensitive to learning rate and batch size.\n",
    "- **AdamW** was a close second at **77.91%**, with lower training time than RMSprop.\n",
    "- **Adam** improved over its baseline, but didn’t outperform the others under the sampled settings.\n",
    "- **Conclusion**: Hyperparameter tuning significantly affects optimizer performance. Even a small random search can uncover better configurations than defaults.\n",
    "\n",
    "The best hyperparameters will be used in the next step for **k-Fold cross-validation**.\n",
    "___\n"
   ]
  },
  {
   "cell_type": "markdown",
   "id": "f285d27e",
   "metadata": {},
   "source": [
    "## Step 8: k-Fold Cross-Validation\n",
    "\n",
    "To ensure the robustness of our model and optimizers, we applied **5-fold cross-validation** using the best hyperparameters from Step 7.\n",
    "\n",
    "For each fold:\n",
    "- The model is trained on 80% of the data and validated on the remaining 20%.\n",
    "- We compute validation accuracy, loss, and training time.\n",
    "\n",
    "This process is repeated 5 times per optimizer, and the results are averaged.\n",
    "\n",
    "This gives us a better picture of the **generalization performance** of each optimizer.\n"
   ]
  },
  {
   "cell_type": "code",
   "execution_count": 15,
   "id": "0e2e9190",
   "metadata": {},
   "outputs": [
    {
     "name": "stdout",
     "output_type": "stream",
     "text": [
      "\n",
      "=== Adam - k-Fold Cross-Validation ===\n",
      "\n",
      "Fold 1\n",
      "Fold 1: Accuracy = 89.10%, Loss = 1.5711, Time = 75.83s\n",
      "\n",
      "Fold 2\n",
      "Fold 2: Accuracy = 88.42%, Loss = 1.5787, Time = 62.87s\n",
      "\n",
      "Fold 3\n",
      "Fold 3: Accuracy = 89.15%, Loss = 1.5716, Time = 52.55s\n",
      "\n",
      "Fold 4\n",
      "Fold 4: Accuracy = 88.71%, Loss = 1.5762, Time = 55.64s\n",
      "\n",
      "Fold 5\n",
      "Fold 5: Accuracy = 87.80%, Loss = 1.5840, Time = 107.26s\n",
      "\n",
      "=== RMSprop - k-Fold Cross-Validation ===\n",
      "\n",
      "Fold 1\n",
      "Fold 1: Accuracy = 88.54%, Loss = 1.5771, Time = 52.82s\n",
      "\n",
      "Fold 2\n",
      "Fold 2: Accuracy = 89.56%, Loss = 1.5672, Time = 52.02s\n",
      "\n",
      "Fold 3\n",
      "Fold 3: Accuracy = 87.97%, Loss = 1.5845, Time = 54.18s\n",
      "\n",
      "Fold 4\n",
      "Fold 4: Accuracy = 89.04%, Loss = 1.5722, Time = 51.03s\n",
      "\n",
      "Fold 5\n",
      "Fold 5: Accuracy = 88.30%, Loss = 1.5806, Time = 49.27s\n",
      "\n",
      "=== AdamW - k-Fold Cross-Validation ===\n",
      "\n",
      "Fold 1\n",
      "Fold 1: Accuracy = 88.55%, Loss = 1.5777, Time = 43.43s\n",
      "\n",
      "Fold 2\n",
      "Fold 2: Accuracy = 88.61%, Loss = 1.5779, Time = 44.93s\n",
      "\n",
      "Fold 3\n",
      "Fold 3: Accuracy = 88.00%, Loss = 1.5854, Time = 45.00s\n",
      "\n",
      "Fold 4\n",
      "Fold 4: Accuracy = 86.86%, Loss = 1.5940, Time = 39.66s\n",
      "\n",
      "Fold 5\n",
      "Fold 5: Accuracy = 88.33%, Loss = 1.5797, Time = 38.48s\n"
     ]
    }
   ],
   "source": [
    "from torch.utils.data import Subset\n",
    "\n",
    "k_folds = 5\n",
    "kfold = KFold(n_splits=k_folds, shuffle=True, random_state=42)\n",
    "\n",
    "# Best hyperparameters from Step 7\n",
    "best_params = {\n",
    "    'Adam':     {'lr': 0.0005, 'batch_size': 32},\n",
    "    'RMSprop':  {'lr': 0.0005, 'batch_size': 32},\n",
    "    'AdamW':    {'lr': 0.001,  'batch_size': 128},\n",
    "}\n",
    "\n",
    "# Results storage\n",
    "cv_results = []\n",
    "\n",
    "for name, optimizer_class in optimizers_dict.items():\n",
    "    print(f\"\\n=== {name} - k-Fold Cross-Validation ===\")\n",
    "    lr = best_params[name]['lr']\n",
    "    bs = best_params[name]['batch_size']\n",
    "    \n",
    "    fold_accuracies = []\n",
    "    fold_losses = []\n",
    "    fold_times = []\n",
    "\n",
    "    for fold, (train_idx, val_idx) in enumerate(kfold.split(train_dataset)):\n",
    "        print(f\"\\nFold {fold+1}\")\n",
    "        \n",
    "        train_subset = Subset(train_dataset, train_idx)\n",
    "        val_subset = Subset(train_dataset, val_idx)\n",
    "\n",
    "        train_loader = DataLoader(train_subset, batch_size=bs, shuffle=True)\n",
    "        val_loader = DataLoader(val_subset, batch_size=bs)\n",
    "\n",
    "        model = FeedforwardNN().to(device)\n",
    "        optimizer = optimizer_class(model.parameters(), lr=lr)\n",
    "        criterion = nn.CrossEntropyLoss()\n",
    "        \n",
    "        total_time = 0.0\n",
    "        for epoch in range(epochs):  # Using same 5 epochs\n",
    "            train_loss, epoch_time = train_one_epoch(model, optimizer, criterion, train_loader, device)\n",
    "            total_time += epoch_time\n",
    "        \n",
    "        val_loss, val_acc = evaluate_model(model, criterion, val_loader, device)\n",
    "        fold_accuracies.append(val_acc)\n",
    "        fold_losses.append(val_loss)\n",
    "        fold_times.append(total_time)\n",
    "\n",
    "        print(f\"Fold {fold+1}: Accuracy = {val_acc:.2f}%, Loss = {val_loss:.4f}, Time = {total_time:.2f}s\")\n",
    "    \n",
    "    cv_results.append({\n",
    "        'Optimizer': name,\n",
    "        'Mean Accuracy (%)': np.mean(fold_accuracies),\n",
    "        'Mean Loss': np.mean(fold_losses),\n",
    "        'Mean Time (s)': np.mean(fold_times)\n",
    "    })\n",
    "\n",
    "# Convert to DataFrame\n",
    "cv_df = pd.DataFrame(cv_results)\n"
   ]
  },
  {
   "cell_type": "code",
   "execution_count": 16,
   "id": "44976c1a",
   "metadata": {},
   "outputs": [
    {
     "name": "stdout",
     "output_type": "stream",
     "text": [
      "{'Optimizer': 'Adam', 'Mean Accuracy (%)': np.float64(88.63666666666666), 'Mean Loss': np.float64(1.5763038810094199), 'Mean Time (s)': np.float64(70.8302592754364)}\n",
      "{'Optimizer': 'RMSprop', 'Mean Accuracy (%)': np.float64(88.68166666666669), 'Mean Loss': np.float64(1.5763115569432578), 'Mean Time (s)': np.float64(51.86538343429565)}\n",
      "{'Optimizer': 'AdamW', 'Mean Accuracy (%)': np.float64(88.06833333333333), 'Mean Loss': np.float64(1.5829490851084391), 'Mean Time (s)': np.float64(42.29885630607605)}\n"
     ]
    }
   ],
   "source": [
    "for res in cv_results:\n",
    "    print(res)\n"
   ]
  },
  {
   "cell_type": "markdown",
   "id": "c6fabc18",
   "metadata": {},
   "source": [
    "### Step 8: k-Fold Cross-Validation Analysis (All Optimizers)\n",
    "\n",
    "We performed 5-fold cross-validation using the best hyperparameters for each optimizer. The averaged metrics are:\n",
    "\n",
    "| Optimizer | Mean Accuracy (%) | Mean Loss | Mean Time (s) |\n",
    "|-----------|-------------------|-----------|---------------|\n",
    "| Adam      | 88.64             | 1.5763    | 70.83         |\n",
    "| RMSprop   | **88.68**         | **1.5763**| 51.87         |\n",
    "| AdamW     | 88.07             | 1.5829    | **42.30**     |\n",
    "\n",
    "### Interpretation:\n",
    "\n",
    "- **RMSprop** achieved the **highest accuracy** (88.68%) and **lowest loss**, suggesting it performs consistently across different data splits.\n",
    "- **AdamW** was the **fastest** to train, averaging just 42.30 seconds per fold — a good choice when speed matters.\n",
    "- **Adam** showed competitive results but was slower and didn’t outperform the other two in either metric.\n",
    "\n",
    "This confirms that **RMSprop** offers the best overall trade-off between accuracy and training stability for this task, while **AdamW** offers speed.\n",
    "\n",
    "____\n",
    "\n"
   ]
  },
  {
   "cell_type": "markdown",
   "id": "6a4700e2",
   "metadata": {},
   "source": [
    "## Step 9: Visualize and Export Final Results\n",
    "\n",
    "We generate bar plots to compare optimizer performance across three metrics:\n",
    "- Mean Accuracy (%)\n",
    "- Mean Loss\n",
    "- Mean Training Time (seconds)\n",
    "\n",
    "These plots summarize insights from 5-fold cross-validation and help visually support the final discussion.\n",
    "\n",
    "We also export results as CSV files (`cv_results_summary.csv`, `tuned_results_summary.csv`) to include in the final PDF report and PowerPoint presentation.\n"
   ]
  },
  {
   "cell_type": "code",
   "execution_count": 19,
   "id": "9b188b6e",
   "metadata": {},
   "outputs": [
    {
     "name": "stderr",
     "output_type": "stream",
     "text": [
      "C:\\Users\\Owner\\AppData\\Local\\Temp\\ipykernel_27200\\3021272103.py:13: FutureWarning: \n",
      "\n",
      "Passing `palette` without assigning `hue` is deprecated and will be removed in v0.14.0. Assign the `x` variable to `hue` and set `legend=False` for the same effect.\n",
      "\n",
      "  ax = sns.barplot(data=cv_df.sort_values(\"Mean Accuracy (%)\", ascending=False),\n",
      "C:\\Users\\Owner\\AppData\\Local\\Temp\\ipykernel_27200\\3021272103.py:20: UserWarning: Glyph 128269 (\\N{LEFT-POINTING MAGNIFYING GLASS}) missing from font(s) Arial.\n",
      "  plt.tight_layout()\n",
      "c:\\Users\\Owner\\miniconda3\\Lib\\site-packages\\IPython\\core\\pylabtools.py:170: UserWarning: Glyph 128269 (\\N{LEFT-POINTING MAGNIFYING GLASS}) missing from font(s) Arial.\n",
      "  fig.canvas.print_figure(bytes_io, **kw)\n"
     ]
    },
    {
     "data": {
      "image/png": "[encoded data removed]",
      "text/plain": [
       "<Figure size 600x400 with 1 Axes>"
      ]
     },
     "metadata": {},
     "output_type": "display_data"
    },
    {
     "name": "stderr",
     "output_type": "stream",
     "text": [
      "C:\\Users\\Owner\\AppData\\Local\\Temp\\ipykernel_27200\\3021272103.py:25: FutureWarning: \n",
      "\n",
      "Passing `palette` without assigning `hue` is deprecated and will be removed in v0.14.0. Assign the `x` variable to `hue` and set `legend=False` for the same effect.\n",
      "\n",
      "  ax = sns.barplot(data=cv_df.sort_values(\"Mean Loss\"),\n",
      "C:\\Users\\Owner\\AppData\\Local\\Temp\\ipykernel_27200\\3021272103.py:32: UserWarning: Glyph 128201 (\\N{CHART WITH DOWNWARDS TREND}) missing from font(s) Arial.\n",
      "  plt.tight_layout()\n",
      "c:\\Users\\Owner\\miniconda3\\Lib\\site-packages\\IPython\\core\\pylabtools.py:170: UserWarning: Glyph 128201 (\\N{CHART WITH DOWNWARDS TREND}) missing from font(s) Arial.\n",
      "  fig.canvas.print_figure(bytes_io, **kw)\n"
     ]
    },
    {
     "data": {
      "image/png": "[encoded data removed]",
      "text/plain": [
       "<Figure size 600x400 with 1 Axes>"
      ]
     },
     "metadata": {},
     "output_type": "display_data"
    },
    {
     "name": "stderr",
     "output_type": "stream",
     "text": [
      "C:\\Users\\Owner\\AppData\\Local\\Temp\\ipykernel_27200\\3021272103.py:37: FutureWarning: \n",
      "\n",
      "Passing `palette` without assigning `hue` is deprecated and will be removed in v0.14.0. Assign the `x` variable to `hue` and set `legend=False` for the same effect.\n",
      "\n",
      "  ax = sns.barplot(data=cv_df.sort_values(\"Mean Time (s)\"),\n",
      "C:\\Users\\Owner\\AppData\\Local\\Temp\\ipykernel_27200\\3021272103.py:43: UserWarning: Glyph 9201 (\\N{STOPWATCH}) missing from font(s) Arial.\n",
      "  plt.tight_layout()\n",
      "C:\\Users\\Owner\\AppData\\Local\\Temp\\ipykernel_27200\\3021272103.py:43: UserWarning: Glyph 65039 (\\N{VARIATION SELECTOR-16}) missing from font(s) Arial.\n",
      "  plt.tight_layout()\n",
      "c:\\Users\\Owner\\miniconda3\\Lib\\site-packages\\IPython\\core\\pylabtools.py:170: UserWarning: Glyph 9201 (\\N{STOPWATCH}) missing from font(s) Arial.\n",
      "  fig.canvas.print_figure(bytes_io, **kw)\n",
      "c:\\Users\\Owner\\miniconda3\\Lib\\site-packages\\IPython\\core\\pylabtools.py:170: UserWarning: Glyph 65039 (\\N{VARIATION SELECTOR-16}) missing from font(s) Arial.\n",
      "  fig.canvas.print_figure(bytes_io, **kw)\n"
     ]
    },
    {
     "data": {
      "image/png": "[encoded data removed]",
      "text/plain": [
       "<Figure size 600x400 with 1 Axes>"
      ]
     },
     "metadata": {},
     "output_type": "display_data"
    }
   ],
   "source": [
    "# Consistent color palette\n",
    "colors = {\"Adam\": \"#1f77b4\", \"RMSprop\": \"#2ca02c\", \"AdamW\": \"#ff7f0e\"}\n",
    "\n",
    "def add_value_labels(ax):\n",
    "    \"\"\"Add value labels on top of bars.\"\"\"\n",
    "    for p in ax.patches:\n",
    "        val = f\"{p.get_height():.2f}\"\n",
    "        ax.annotate(val, (p.get_x() + p.get_width() / 2, p.get_height()),\n",
    "                    ha='center', va='bottom', fontsize=10, color='black')\n",
    "\n",
    "# Accuracy\n",
    "plt.figure(figsize=(6, 4))\n",
    "ax = sns.barplot(data=cv_df.sort_values(\"Mean Accuracy (%)\", ascending=False), \n",
    "                 x=\"Optimizer\", y=\"Mean Accuracy (%)\", palette=colors)\n",
    "add_value_labels(ax)\n",
    "plt.title(\"🔍 Mean Accuracy by Optimizer (5-Fold CV)\")\n",
    "plt.ylim(85, 90)\n",
    "plt.ylabel(\"Accuracy (%)\")\n",
    "plt.xlabel(\"Optimizer\")\n",
    "plt.tight_layout()\n",
    "plt.show()\n",
    "\n",
    "# Loss\n",
    "plt.figure(figsize=(6, 4))\n",
    "ax = sns.barplot(data=cv_df.sort_values(\"Mean Loss\"), \n",
    "                 x=\"Optimizer\", y=\"Mean Loss\", palette=colors)\n",
    "add_value_labels(ax)\n",
    "plt.title(\"📉 Mean Loss by Optimizer (5-Fold CV)\")\n",
    "plt.ylim(1.57, 1.59)\n",
    "plt.ylabel(\"Loss\")\n",
    "plt.xlabel(\"Optimizer\")\n",
    "plt.tight_layout()\n",
    "plt.show()\n",
    "\n",
    "# Training Time\n",
    "plt.figure(figsize=(6, 4))\n",
    "ax = sns.barplot(data=cv_df.sort_values(\"Mean Time (s)\"), \n",
    "                 x=\"Optimizer\", y=\"Mean Time (s)\", palette=colors)\n",
    "add_value_labels(ax)\n",
    "plt.title(\"⏱️ Mean Training Time by Optimizer (5-Fold CV)\")\n",
    "plt.ylabel(\"Time (seconds)\")\n",
    "plt.xlabel(\"Optimizer\")\n",
    "plt.tight_layout()\n",
    "plt.show()\n"
   ]
  },
  {
   "cell_type": "markdown",
   "id": "566bd06a",
   "metadata": {},
   "source": [
    "### Interpretation of Optimizer Comparison Graphs\n",
    "\n",
    "We visualize and interpret the results of our 5-fold cross-validation using bar plots:\n",
    "\n",
    "\n",
    "\n",
    "###  1. Mean Accuracy by Optimizer\n",
    "\n",
    "- All three optimizers performed similarly, with **RMSprop** achieving the highest mean accuracy (~88.68%).\n",
    "- **Adam** and **AdamW** were close behind, suggesting that optimizer choice may not drastically affect accuracy with this architecture.\n",
    "- However, RMSprop shows slightly more consistent generalization across folds.\n",
    "\n",
    "\n",
    "\n",
    "### 2. Mean Loss by Optimizer\n",
    "\n",
    "- All optimizers had nearly identical mean loss values (~1.576), confirming that they converge similarly on this dataset.\n",
    "- The differences are minimal, further supporting the idea that the optimizers are functionally close in performance for KMNIST classification using a feedforward network.\n",
    "\n",
    "\n",
    "\n",
    "###  3. Mean Training Time by Optimizer\n",
    "\n",
    "- **AdamW** was the fastest to train, taking ~42 seconds per fold.\n",
    "- **RMSprop** followed with ~52 seconds, while **Adam** was the slowest (~71 seconds).\n",
    "- This is an important factor if training time is a concern, especially for larger datasets or deeper models.\n",
    "\n",
    "\n",
    "\n",
    "###  Summary:\n",
    "\n",
    "- **Best overall performer**: **RMSprop**, due to the best balance of accuracy and loss.\n",
    "- **Best for speed**: **AdamW**, with lowest training time.\n",
    "- While all optimizers achieved similar loss and accuracy, RMSprop had a slight edge in generalization, making it the **recommended choice for KMNIST** in this setup.\n",
    "---\n"
   ]
  },
  {
   "cell_type": "code",
   "execution_count": 18,
   "id": "35bc61a0",
   "metadata": {},
   "outputs": [
    {
     "name": "stdout",
     "output_type": "stream",
     "text": [
      "CSV files saved: cv_results_summary.csv, tuned_results_summary.csv\n"
     ]
    }
   ],
   "source": [
    "# Step 9b Export Results to CSV\n",
    "\n",
    "cv_df.to_csv(\"cv_results_summary.csv\", index=False)\n",
    "tuned_df.to_csv(\"tuned_results_summary.csv\", index=False)\n",
    "print(\"CSV files saved: cv_results_summary.csv, tuned_results_summary.csv\")\n"
   ]
  }
 ],
 "metadata": {
  "kernelspec": {
   "display_name": "base",
   "language": "python",
   "name": "python3"
  },
  "language_info": {
   "codemirror_mode": {
    "name": "ipython",
    "version": 3
   },
   "file_extension": ".py",
   "mimetype": "text/x-python",
   "name": "python",
   "nbconvert_exporter": "python",
   "pygments_lexer": "ipython3",
   "version": "3.12.3"
  }
 },
 "nbformat": 4,
 "nbformat_minor": 5
}
